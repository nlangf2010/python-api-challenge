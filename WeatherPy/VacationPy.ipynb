{
 "cells": [
  {
   "cell_type": "code",
   "execution_count": 1,
   "metadata": {},
   "outputs": [],
   "source": [
    " # Dependencies and Setup\n",
    "import matplotlib.pyplot as plt\n",
    "import pandas as pd\n",
    "import numpy as np\n",
    "import requests\n",
    "import gmaps\n",
    "import os\n",
    "\n",
    "# Import API key\n",
    "from config import g_key"
   ]
  },
  {
   "cell_type": "code",
   "execution_count": 2,
   "metadata": {},
   "outputs": [
    {
     "data": {
      "text/html": [
       "<div>\n",
       "<style scoped>\n",
       "    .dataframe tbody tr th:only-of-type {\n",
       "        vertical-align: middle;\n",
       "    }\n",
       "\n",
       "    .dataframe tbody tr th {\n",
       "        vertical-align: top;\n",
       "    }\n",
       "\n",
       "    .dataframe thead th {\n",
       "        text-align: right;\n",
       "    }\n",
       "</style>\n",
       "<table border=\"1\" class=\"dataframe\">\n",
       "  <thead>\n",
       "    <tr style=\"text-align: right;\">\n",
       "      <th></th>\n",
       "      <th>Unnamed: 0</th>\n",
       "      <th>City</th>\n",
       "      <th>Country</th>\n",
       "      <th>Max Temp</th>\n",
       "      <th>Humidity</th>\n",
       "      <th>Cloudiness</th>\n",
       "      <th>Wind Speed</th>\n",
       "      <th>Date</th>\n",
       "      <th>Latitude</th>\n",
       "      <th>Longitude</th>\n",
       "    </tr>\n",
       "  </thead>\n",
       "  <tbody>\n",
       "    <tr>\n",
       "      <th>0</th>\n",
       "      <td>0</td>\n",
       "      <td>kapaa</td>\n",
       "      <td>US</td>\n",
       "      <td>27.00</td>\n",
       "      <td>69</td>\n",
       "      <td>20</td>\n",
       "      <td>9.30</td>\n",
       "      <td>1605153958</td>\n",
       "      <td>22.08</td>\n",
       "      <td>-159.32</td>\n",
       "    </tr>\n",
       "    <tr>\n",
       "      <th>1</th>\n",
       "      <td>1</td>\n",
       "      <td>venice</td>\n",
       "      <td>US</td>\n",
       "      <td>26.11</td>\n",
       "      <td>94</td>\n",
       "      <td>90</td>\n",
       "      <td>8.70</td>\n",
       "      <td>1605153939</td>\n",
       "      <td>27.10</td>\n",
       "      <td>-82.45</td>\n",
       "    </tr>\n",
       "    <tr>\n",
       "      <th>2</th>\n",
       "      <td>2</td>\n",
       "      <td>hami</td>\n",
       "      <td>CN</td>\n",
       "      <td>10.16</td>\n",
       "      <td>40</td>\n",
       "      <td>0</td>\n",
       "      <td>1.38</td>\n",
       "      <td>1605153959</td>\n",
       "      <td>42.80</td>\n",
       "      <td>93.45</td>\n",
       "    </tr>\n",
       "    <tr>\n",
       "      <th>3</th>\n",
       "      <td>3</td>\n",
       "      <td>indian head</td>\n",
       "      <td>US</td>\n",
       "      <td>20.56</td>\n",
       "      <td>100</td>\n",
       "      <td>75</td>\n",
       "      <td>4.02</td>\n",
       "      <td>1605153959</td>\n",
       "      <td>38.60</td>\n",
       "      <td>-77.16</td>\n",
       "    </tr>\n",
       "    <tr>\n",
       "      <th>4</th>\n",
       "      <td>4</td>\n",
       "      <td>albany</td>\n",
       "      <td>US</td>\n",
       "      <td>16.11</td>\n",
       "      <td>81</td>\n",
       "      <td>100</td>\n",
       "      <td>3.25</td>\n",
       "      <td>1605153960</td>\n",
       "      <td>42.60</td>\n",
       "      <td>-73.97</td>\n",
       "    </tr>\n",
       "  </tbody>\n",
       "</table>\n",
       "</div>"
      ],
      "text/plain": [
       "   Unnamed: 0         City Country  Max Temp  Humidity  Cloudiness  \\\n",
       "0           0        kapaa      US     27.00        69          20   \n",
       "1           1       venice      US     26.11        94          90   \n",
       "2           2         hami      CN     10.16        40           0   \n",
       "3           3  indian head      US     20.56       100          75   \n",
       "4           4       albany      US     16.11        81         100   \n",
       "\n",
       "   Wind Speed        Date  Latitude  Longitude  \n",
       "0        9.30  1605153958     22.08    -159.32  \n",
       "1        8.70  1605153939     27.10     -82.45  \n",
       "2        1.38  1605153959     42.80      93.45  \n",
       "3        4.02  1605153959     38.60     -77.16  \n",
       "4        3.25  1605153960     42.60     -73.97  "
      ]
     },
     "execution_count": 2,
     "metadata": {},
     "output_type": "execute_result"
    }
   ],
   "source": [
    "vacation_df = pd.read_csv('weather_data.csv')\n",
    "\n",
    "vacation_df.head()"
   ]
  },
  {
   "cell_type": "code",
   "execution_count": 3,
   "metadata": {},
   "outputs": [],
   "source": [
    "# Access maps with unique API key\n",
    "gmaps.configure(api_key=g_key)"
   ]
  },
  {
   "cell_type": "code",
   "execution_count": 4,
   "metadata": {},
   "outputs": [],
   "source": [
    "# Create a list containing coordinates\n",
    "locations = vacation_df[[\"Latitude\", \"Longitude\"]].astype(float)\n",
    "\n",
    "humidity = vacation_df[\"Humidity\"].astype(int)"
   ]
  },
  {
   "cell_type": "code",
   "execution_count": 5,
   "metadata": {},
   "outputs": [
    {
     "data": {
      "application/vnd.jupyter.widget-view+json": {
       "model_id": "45e3d4290c144d688d154b0c75ab7f85",
       "version_major": 2,
       "version_minor": 0
      },
      "text/plain": [
       "Figure(layout=FigureLayout(height='420px'))"
      ]
     },
     "metadata": {},
     "output_type": "display_data"
    }
   ],
   "source": [
    "# Create a Humidity Heatmap layer\n",
    "fig = gmaps.figure()\n",
    "\n",
    "heat_layer = gmaps.heatmap_layer(locations, weights=humidity, \n",
    "                                 dissipating=False, max_intensity=100,\n",
    "                                 point_radius = 1)\n",
    "\n",
    "fig.add_layer(heat_layer)\n",
    "\n",
    "fig"
   ]
  },
  {
   "cell_type": "code",
   "execution_count": null,
   "metadata": {},
   "outputs": [],
   "source": []
  }
 ],
 "metadata": {
  "kernelspec": {
   "display_name": "Python 3",
   "language": "python",
   "name": "python3"
  },
  "language_info": {
   "codemirror_mode": {
    "name": "ipython",
    "version": 3
   },
   "file_extension": ".py",
   "mimetype": "text/x-python",
   "name": "python",
   "nbconvert_exporter": "python",
   "pygments_lexer": "ipython3",
   "version": "3.7.6"
  }
 },
 "nbformat": 4,
 "nbformat_minor": 4
}
