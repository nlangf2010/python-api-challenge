{
 "cells": [
  {
   "cell_type": "code",
   "execution_count": null,
   "metadata": {},
   "outputs": [],
   "source": [
    "# Dependencies and Setup\n",
    "import matplotlib.pyplot as plt\n",
    "import pandas as pd\n",
    "import numpy as np\n",
    "import requests\n",
    "import time\n",
    "from scipy.stats import linregress\n",
    "\n",
    "# Import API key\n",
    "from config import api_key\n",
    "\n",
    "# Incorporated citipy to determine city based on latitude and longitude\n",
    "from citipy import citipy\n",
    "\n",
    "# Output File (CSV)\n",
    "output_data_file = \"output_data/cities.csv\"\n",
    "\n",
    "# Range of latitudes and longitudes\n",
    "lat_range = (-90, 90)\n",
    "lng_range = (-180, 180)"
   ]
  },
  {
   "cell_type": "markdown",
   "metadata": {},
   "source": [
    "Generate Cities List"
   ]
  },
  {
   "cell_type": "code",
   "execution_count": null,
   "metadata": {},
   "outputs": [],
   "source": [
    "# List for holding lat_lngs and cities\n",
    "lat_lngs = []\n",
    "cities = []\n",
    "\n",
    "# Create a set of random lat and lng combinations\n",
    "lats = np.random.uniform(lat_range[0], lat_range[1], size=1500)\n",
    "lngs = np.random.uniform(lng_range[0], lng_range[1], size=1500)\n",
    "lat_lngs = zip(lats, lngs)\n",
    "\n",
    "# Identify nearest city for each lat, lng combination\n",
    "for lat_lng in lat_lngs:\n",
    "    city = citipy.nearest_city(lat_lng[0], lat_lng[1]).city_name\n",
    "    \n",
    "    # If the city is unique, then add it to a our cities list\n",
    "    if city not in cities:\n",
    "        cities.append(city)\n",
    "\n",
    "# Print the city count to confirm sufficient count\n",
    "len(cities)"
   ]
  },
  {
   "cell_type": "code",
   "execution_count": null,
   "metadata": {},
   "outputs": [],
   "source": [
    "#perform weather check on each city using a series of successive API calls\n",
    "#include a print log of each city as it's being processed with city number and city name\n",
    "\n",
    "base_url = \"api.openweathermap.org/data/2.5/weather?q={city name}&appid={api_key}\"\n",
    "\n",
    "#create settings dictionary (learned code from JKora)\n",
    "settings = {\"units\": \"imperial\", \"appid\": api_key}\n",
    "\n",
    "#create data frame to store data from api calls\n",
    "WeatherPy_df = pd.DataFrame(columns = [\"City\", \"Country\",\"Lat\", \"Lng\", \"Date\", \n",
    "                                       \"Cloudiness\",\"Max Temp\", \"Wind Speed\",\n",
    "                                      \"Humidity\"])\n",
    "        "
   ]
  },
  {
   "cell_type": "code",
   "execution_count": null,
   "metadata": {},
   "outputs": [],
   "source": [
    "#perform weather check on each city using successive API calls with print log\n",
    "#learned code from JKora\n",
    "\n",
    "count = 1 #to count number of calls to API\n",
    "err = 0 #to record how many cities come back with no data\n",
    "sets = 0 #counts number of call sets\n",
    "index = 0 #index for datatframe \n",
    "t0 = time.time() #to get current time\n",
    "\n",
    "print(f'Beginning Data Retrieval \\n ..............')\n",
    "for city in cities:\n",
    "    try: \n",
    "        city1 = city.replace(\" \", \"%20\") #this removes space in city name so URL isn't broken\n",
    "        print(f'Processing Record {count} of Set {sets} | {city}')\n",
    "        city_stats = base_url.get_current(city, **settings)\n",
    "        WeatherPy_df.set_value(index, \"City\", city_stats[\"name\"])\n",
    "        WeatherPy_df.set_value(index, \"Country\", city_stats[\"sys.country\"])\n",
    "        WeatherPy_df.set_value(index, \"Lat\", city_stats[\"coord.lat\"])\n",
    "        WeatherPy_df.set_value(index, \"Lng\", city_stats[\"coord.lng\"])\n",
    "        WeatherPy_df.set_value(index, \"Date\", city_stats[\"dt\"])\n",
    "        WeatherPy_df.set_value(index, \"Cloudiness\", city_stats[\"clouds.all\"])\n",
    "        WeatherPy_df.set_value(index, \"Max Temp\", city_stats[\"main.temp_max\"])\n",
    "        WeatherPy_df.set_value(index, \"Wind Speed\", city_stats[\"wind.speed\"])\n",
    "        WeatherPy_df.set_value(index, \"Humidity\", city_stats[\"main.humidity\"])\n",
    "        index = index+1\n",
    "    except Exception as e:\n",
    "        print(e)\n",
    "        err = err+1\n",
    "    count = count+1\n",
    "    if count == 51:\n",
    "        t1 = time.time()\n",
    "        count = 1\n",
    "        sets = sets+1\n",
    "        time.sleep(60-(t1-t0))\n",
    "        t0=time.time()\n",
    "        \n",
    "print(\"------------------------\")\n",
    "print(\"Data Retrieval Complete\")\n",
    "print(\"------------------------\")\n",
    "print(f'Could not get data for {err} cities')\n",
    "        "
   ]
  },
  {
   "cell_type": "code",
   "execution_count": null,
   "metadata": {},
   "outputs": [],
   "source": []
  }
 ],
 "metadata": {
  "kernelspec": {
   "display_name": "Python 3",
   "language": "python",
   "name": "python3"
  },
  "language_info": {
   "codemirror_mode": {
    "name": "ipython",
    "version": 3
   },
   "file_extension": ".py",
   "mimetype": "text/x-python",
   "name": "python",
   "nbconvert_exporter": "python",
   "pygments_lexer": "ipython3",
   "version": "3.7.6"
  }
 },
 "nbformat": 4,
 "nbformat_minor": 4
}
