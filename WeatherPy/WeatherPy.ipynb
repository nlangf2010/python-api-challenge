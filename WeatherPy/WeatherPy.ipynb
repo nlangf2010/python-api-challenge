{
 "cells": [
  {
   "cell_type": "code",
   "execution_count": 1,
   "metadata": {},
   "outputs": [],
   "source": [
    "# Dependencies and Setup\n",
    "import matplotlib.pyplot as plt\n",
    "import pandas as pd\n",
    "import numpy as np\n",
    "import requests\n",
    "import time\n",
    "from scipy.stats import linregress\n",
    "\n",
    "# Import API key\n",
    "from config import api_key\n",
    "\n",
    "# Incorporated citipy to determine city based on latitude and longitude\n",
    "from citipy import citipy"
   ]
  },
  {
   "cell_type": "code",
   "execution_count": 2,
   "metadata": {},
   "outputs": [],
   "source": [
    "# Output File (CSV)\n",
    "output_data_file = \"output_data/cities.csv\"\n",
    "\n",
    "# Range of latitudes and longitudes\n",
    "lat_range = (-90, 90)\n",
    "lng_range = (-180, 180)"
   ]
  },
  {
   "cell_type": "code",
   "execution_count": 3,
   "metadata": {},
   "outputs": [
    {
     "data": {
      "text/plain": [
       "607"
      ]
     },
     "execution_count": 3,
     "metadata": {},
     "output_type": "execute_result"
    }
   ],
   "source": [
    "#Generate Cities List\n",
    "\n",
    "# List for holding lat_lngs and cities\n",
    "lat_lngs = []\n",
    "cities = []\n",
    "\n",
    "# Create a set of random lat and lng combinations\n",
    "lats = np.random.uniform(lat_range[0], lat_range[1], size=1500)\n",
    "lngs = np.random.uniform(lng_range[0], lng_range[1], size=1500)\n",
    "lat_lngs = zip(lats, lngs)\n",
    "\n",
    "# Identify nearest city for each lat, lng combination\n",
    "for lat_lng in lat_lngs:\n",
    "    city = citipy.nearest_city(lat_lng[0], lat_lng[1]).city_name\n",
    "    \n",
    "    # If the city is unique, then add it to a our cities list\n",
    "    if city not in cities:\n",
    "        cities.append(city)\n",
    "\n",
    "# Print the city count to confirm sufficient count\n",
    "len(cities)"
   ]
  },
  {
   "cell_type": "code",
   "execution_count": 23,
   "metadata": {},
   "outputs": [
    {
     "name": "stdout",
     "output_type": "stream",
     "text": [
      "http://api.openweathermap.org/data/2.5/weather?appid=2e8fc0916833705cacba448ba47295ea&units=metric&q=olinda\n",
      "{'coord': {'lon': -34.86, 'lat': -8.01}, 'weather': [{'id': 803, 'main': 'Clouds', 'description': 'broken clouds', 'icon': '04d'}], 'base': 'stations', 'main': {'temp': 26, 'feels_like': 27.61, 'temp_min': 26, 'temp_max': 26, 'pressure': 1012, 'humidity': 83}, 'visibility': 10000, 'wind': {'speed': 5.1, 'deg': 110}, 'clouds': {'all': 75}, 'dt': 1605034745, 'sys': {'type': 1, 'id': 8426, 'country': 'BR', 'sunrise': 1604994594, 'sunset': 1605039421}, 'timezone': -10800, 'id': 3393536, 'name': 'Olinda', 'cod': 200}\n",
      "http://api.openweathermap.org/data/2.5/weather?appid=2e8fc0916833705cacba448ba47295ea&units=metric&q=geraldton\n",
      "{'coord': {'lon': 114.6, 'lat': -28.77}, 'weather': [{'id': 802, 'main': 'Clouds', 'description': 'scattered clouds', 'icon': '03n'}], 'base': 'stations', 'main': {'temp': 10, 'feels_like': 7.94, 'temp_min': 10, 'temp_max': 10, 'pressure': 1017, 'humidity': 93}, 'visibility': 10000, 'wind': {'speed': 2.6, 'deg': 50}, 'clouds': {'all': 40}, 'dt': 1605034745, 'sys': {'type': 1, 'id': 9522, 'country': 'AU', 'sunrise': 1605043313, 'sunset': 1605091770}, 'timezone': 28800, 'id': 2070998, 'name': 'Geraldton', 'cod': 200}\n",
      "http://api.openweathermap.org/data/2.5/weather?appid=2e8fc0916833705cacba448ba47295ea&units=metric&q=cap malheureux\n",
      "{'coord': {'lon': 57.61, 'lat': -19.98}, 'weather': [{'id': 500, 'main': 'Rain', 'description': 'light rain', 'icon': '10n'}], 'base': 'stations', 'main': {'temp': 22.78, 'feels_like': 24.24, 'temp_min': 22.78, 'temp_max': 22.78, 'pressure': 1018, 'humidity': 77}, 'visibility': 10000, 'wind': {'speed': 2.24, 'deg': 132, 'gust': 5.36}, 'rain': {'1h': 0.25}, 'clouds': {'all': 3}, 'dt': 1605034745, 'sys': {'type': 3, 'id': 2002134, 'country': 'MU', 'sunrise': 1604971436, 'sunset': 1605018190}, 'timezone': 14400, 'id': 934649, 'name': 'Cap Malheureux', 'cod': 200}\n",
      "http://api.openweathermap.org/data/2.5/weather?appid=2e8fc0916833705cacba448ba47295ea&units=metric&q=rio gallegos\n",
      "{'coord': {'lon': -69.22, 'lat': -51.62}, 'weather': [{'id': 802, 'main': 'Clouds', 'description': 'scattered clouds', 'icon': '03d'}], 'base': 'stations', 'main': {'temp': 19, 'feels_like': 15.25, 'temp_min': 19, 'temp_max': 19, 'pressure': 1015, 'humidity': 48}, 'visibility': 10000, 'wind': {'speed': 4.6, 'deg': 0}, 'clouds': {'all': 40}, 'dt': 1605034745, 'sys': {'type': 1, 'id': 8293, 'country': 'AR', 'sunrise': 1604997722, 'sunset': 1605052788}, 'timezone': -10800, 'id': 3838859, 'name': 'Río Gallegos', 'cod': 200}\n",
      "http://api.openweathermap.org/data/2.5/weather?appid=2e8fc0916833705cacba448ba47295ea&units=metric&q=kazachinskoye\n",
      "{'coord': {'lon': 93.28, 'lat': 57.7}, 'weather': [{'id': 804, 'main': 'Clouds', 'description': 'overcast clouds', 'icon': '04n'}], 'base': 'stations', 'main': {'temp': 1.39, 'feels_like': -4.37, 'temp_min': 1.39, 'temp_max': 1.39, 'pressure': 1006, 'humidity': 94, 'sea_level': 1006, 'grnd_level': 995}, 'visibility': 59, 'wind': {'speed': 5.5, 'deg': 232}, 'clouds': {'all': 100}, 'dt': 1605034746, 'sys': {'country': 'RU', 'sunrise': 1605057779, 'sunset': 1605087539}, 'timezone': 25200, 'id': 1504075, 'name': 'Kazachinskoye', 'cod': 200}\n",
      "http://api.openweathermap.org/data/2.5/weather?appid=2e8fc0916833705cacba448ba47295ea&units=metric&q=yulara\n",
      "{'coord': {'lon': 130.99, 'lat': -25.24}, 'weather': [{'id': 800, 'main': 'Clear', 'description': 'clear sky', 'icon': '01n'}], 'base': 'stations', 'main': {'temp': 27, 'feels_like': 20.89, 'temp_min': 27, 'temp_max': 27, 'pressure': 1010, 'humidity': 22}, 'visibility': 10000, 'wind': {'speed': 6.7, 'deg': 190}, 'clouds': {'all': 0}, 'dt': 1605034746, 'sys': {'type': 1, 'id': 9487, 'country': 'AU', 'sunrise': 1605039729, 'sunset': 1605087486}, 'timezone': 34200, 'id': 6355222, 'name': 'Yulara', 'cod': 200}\n",
      "http://api.openweathermap.org/data/2.5/weather?appid=2e8fc0916833705cacba448ba47295ea&units=metric&q=ballina\n",
      "{'coord': {'lon': 153.57, 'lat': -28.87}, 'weather': [{'id': 803, 'main': 'Clouds', 'description': 'broken clouds', 'icon': '04d'}], 'base': 'stations', 'main': {'temp': 13.36, 'feels_like': 12.24, 'temp_min': 12, 'temp_max': 15, 'pressure': 1020, 'humidity': 93}, 'visibility': 10000, 'wind': {'speed': 2.6, 'deg': 267}, 'clouds': {'all': 75}, 'dt': 1605034746, 'sys': {'type': 1, 'id': 9496, 'country': 'AU', 'sunrise': 1605033954, 'sunset': 1605082422}, 'timezone': 39600, 'id': 2177069, 'name': 'Ballina', 'cod': 200}\n",
      "http://api.openweathermap.org/data/2.5/weather?appid=2e8fc0916833705cacba448ba47295ea&units=metric&q=nanortalik\n",
      "{'coord': {'lon': -45.24, 'lat': 60.14}, 'weather': [{'id': 804, 'main': 'Clouds', 'description': 'overcast clouds', 'icon': '04n'}], 'base': 'stations', 'main': {'temp': -1.3, 'feels_like': -9.13, 'temp_min': -1.3, 'temp_max': -1.3, 'pressure': 986, 'humidity': 90, 'sea_level': 986, 'grnd_level': 986}, 'visibility': 10000, 'wind': {'speed': 7.83, 'deg': 287}, 'clouds': {'all': 98}, 'dt': 1605034761, 'sys': {'country': 'GL', 'sunrise': 1605005292, 'sunset': 1605033706}, 'timezone': -10800, 'id': 3421765, 'name': 'Nanortalik', 'cod': 200}\n",
      "http://api.openweathermap.org/data/2.5/weather?appid=2e8fc0916833705cacba448ba47295ea&units=metric&q=poum\n",
      "{'coord': {'lon': 164.02, 'lat': -20.23}, 'weather': [{'id': 804, 'main': 'Clouds', 'description': 'overcast clouds', 'icon': '04d'}], 'base': 'stations', 'main': {'temp': 23.43, 'feels_like': 23.56, 'temp_min': 23.43, 'temp_max': 23.43, 'pressure': 1013, 'humidity': 75, 'sea_level': 1013, 'grnd_level': 1013}, 'visibility': 10000, 'wind': {'speed': 4.26, 'deg': 120}, 'clouds': {'all': 100}, 'dt': 1605034761, 'sys': {'country': 'NC', 'sunrise': 1605032262, 'sunset': 1605079097}, 'timezone': 39600, 'id': 2138555, 'name': 'Poum', 'cod': 200}\n",
      "http://api.openweathermap.org/data/2.5/weather?appid=2e8fc0916833705cacba448ba47295ea&units=metric&q=bluff\n",
      "{'coord': {'lon': 168.33, 'lat': -46.6}, 'weather': [{'id': 803, 'main': 'Clouds', 'description': 'broken clouds', 'icon': '04d'}], 'base': 'stations', 'main': {'temp': 9.44, 'feels_like': 8.87, 'temp_min': 9.44, 'temp_max': 9.44, 'pressure': 1018, 'humidity': 96}, 'visibility': 10000, 'wind': {'speed': 0.45, 'deg': 233, 'gust': 1.34}, 'clouds': {'all': 54}, 'dt': 1605034762, 'sys': {'type': 3, 'id': 2008959, 'country': 'NZ', 'sunrise': 1605028073, 'sunset': 1605081218}, 'timezone': 46800, 'id': 2206939, 'name': 'Bluff', 'cod': 200}\n"
     ]
    }
   ],
   "source": [
    "#perform weather check on each city using a series of successive API calls\n",
    "#include a print log of each city as it's being processed with city number and city name\n",
    "\n",
    "# Save config information.\n",
    "url = \"http://api.openweathermap.org/data/2.5/weather?\"\n",
    "units = \"metric\"\n",
    "\n",
    "# Build partial query URL\n",
    "query_url = f\"{url}appid={api_key}&units={units}&q=\"\n",
    "\n",
    "#url for GET requests\n",
    "# url = \"http://api.openweathermap.org/data/2.5/weather?q={city name}&appid={api_key}\"\n",
    "\n",
    "response = requests.get(url).json()\n",
    "\n",
    "# Set empty lists to hold city weather data\n",
    "max_temp = []\n",
    "humidity = []\n",
    "cloudiness = []\n",
    "wind_speed = []\n",
    "country = []\n",
    "date = []\n",
    "cities_list = []\n",
    "\n",
    "# # Loop through each character\n",
    "for city in cities[0: 10]:\n",
    "    \n",
    "#     # Create search query, make request and store in json\n",
    "    query = query_url + city\n",
    "    print(query)\n",
    "    response = requests.get(query)\n",
    "    response_json = response.json()\n",
    "    print(response_json)\n",
    "    \n",
    "#     # Try to grab the weather data from API\n",
    "    try:\n",
    "        max_temp.append(response_json['main']['temp_max'])\n",
    "        humidity.append(response_json['main']['humidity'])\n",
    "        cloudiness.append(response_json['clouds']['all'])\n",
    "        wind_speed.append(response_json['wind']['speed'])\n",
    "        country.append(response_json['sys']['country'])\n",
    "        date.append(response_json['dt'])\n",
    "        cities_list.append(city)\n",
    "        \n",
    "        \n",
    "        \n",
    "#     # Handle exceptions for a character that is not available in the openweather API\n",
    "    except:\n",
    "        # Append null values\n",
    "        print(\"City not found. Skipping...\")\n",
    "        pass\n",
    "        \n",
    "\n",
    "#perform weather check on each city using successive API calls with print log\n",
    "        "
   ]
  },
  {
   "cell_type": "code",
   "execution_count": 24,
   "metadata": {},
   "outputs": [
    {
     "name": "stdout",
     "output_type": "stream",
     "text": [
      "[26, 10, 22.78, 19, 1.39, 27, 15, -1.3, 23.43, 9.44]\n"
     ]
    }
   ],
   "source": [
    "print(max_temp)"
   ]
  },
  {
   "cell_type": "code",
   "execution_count": null,
   "metadata": {},
   "outputs": [],
   "source": []
  }
 ],
 "metadata": {
  "kernelspec": {
   "display_name": "Python 3",
   "language": "python",
   "name": "python3"
  },
  "language_info": {
   "codemirror_mode": {
    "name": "ipython",
    "version": 3
   },
   "file_extension": ".py",
   "mimetype": "text/x-python",
   "name": "python",
   "nbconvert_exporter": "python",
   "pygments_lexer": "ipython3",
   "version": "3.7.6"
  }
 },
 "nbformat": 4,
 "nbformat_minor": 4
}
